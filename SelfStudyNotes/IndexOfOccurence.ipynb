{
 "cells": [
  {
   "cell_type": "code",
   "execution_count": null,
   "id": "d65b86c2",
   "metadata": {
    "vscode": {
     "languageId": "java"
    }
   },
   "outputs": [],
   "source": []
  },
  {
   "cell_type": "markdown",
   "id": "45dbf30f",
   "metadata": {},
   "source": [
    "Haystack = \"ssabtadutsad\" \n",
    "Needle = \"sad\"\n",
    "\n",
    "Iterate Haystack for s\n",
    "if you find s then you start looking for a\n",
    "If you find a then you start looking for d\n",
    "\n",
    "If the indexes are not equal, then that index gets compared to s, and then continue looking for s if it is not s, if it is s then look for a."
   ]
  }
 ],
 "metadata": {
  "language_info": {
   "name": "python"
  }
 },
 "nbformat": 4,
 "nbformat_minor": 5
}
