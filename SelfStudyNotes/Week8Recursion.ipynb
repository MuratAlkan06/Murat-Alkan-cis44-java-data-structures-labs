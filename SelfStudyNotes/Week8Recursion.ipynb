{
 "cells": [
  {
   "cell_type": "code",
   "execution_count": 1,
   "id": "a729e6f1",
   "metadata": {},
   "outputs": [],
   "source": [
    "void pl(Object x) {\n",
    "    System.out.println(x);\n",
    "}"
   ]
  },
  {
   "cell_type": "code",
   "execution_count": 6,
   "id": "b2fba5e9",
   "metadata": {},
   "outputs": [],
   "source": [
    "int testNum = 17;\n",
    "String testString = \"Hi\";"
   ]
  },
  {
   "cell_type": "code",
   "execution_count": 7,
   "id": "32597492",
   "metadata": {},
   "outputs": [
    {
     "name": "stdout",
     "output_type": "stream",
     "text": [
      "Hi\n",
      "17\n",
      "Hi\n"
     ]
    }
   ],
   "source": [
    "pl(\"Hi\");\n",
    "pl(testNum);\n",
    "pl(testString);"
   ]
  },
  {
   "cell_type": "code",
   "execution_count": null,
   "id": "47d69099",
   "metadata": {},
   "outputs": [],
   "source": []
  },
  {
   "cell_type": "markdown",
   "id": "320b4993",
   "metadata": {},
   "source": [
    "Study  Exceptions"
   ]
  }
 ],
 "metadata": {
  "kernelspec": {
   "display_name": "java (JJava/j!)",
   "language": "java",
   "name": "jbang-jjava"
  },
  "language_info": {
   "codemirror_mode": "java",
   "file_extension": ".jshell",
   "mimetype": "text/x-java-source",
   "name": "java",
   "pygments_lexer": "java",
   "version": "21.0.7+6-LTS"
  }
 },
 "nbformat": 4,
 "nbformat_minor": 5
}
